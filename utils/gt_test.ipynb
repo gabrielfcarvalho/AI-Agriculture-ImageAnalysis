{
 "cells": [
  {
   "attachments": {},
   "cell_type": "markdown",
   "metadata": {},
   "source": [
    "# Ground-truth testing"
   ]
  },
  {
   "cell_type": "code",
   "execution_count": 18,
   "metadata": {},
   "outputs": [],
   "source": [
    "import cv2\n",
    "import pandas as pd\n",
    "import numpy as np\n",
    "from matplotlib import pyplot as plt\n",
    "import os"
   ]
  },
  {
   "attachments": {},
   "cell_type": "markdown",
   "metadata": {},
   "source": [
    "## Carregando dataset"
   ]
  },
  {
   "cell_type": "code",
   "execution_count": 19,
   "metadata": {},
   "outputs": [
    {
     "data": {
      "text/plain": [
       "50000"
      ]
     },
     "execution_count": 19,
     "metadata": {},
     "output_type": "execute_result"
    }
   ],
   "source": [
    "labels_df = pd.read_csv(r\"D:\\UnB\\TG2\\dataset\\20160613_F54_training_256x256\\gt.csv\")\n",
    "labels_df.head()\n",
    "len(labels_df)"
   ]
  },
  {
   "cell_type": "code",
   "execution_count": 23,
   "metadata": {},
   "outputs": [],
   "source": [
    "for i in range(10):\n",
    "    image_name = labels_df.iloc[i]['filename']\n",
    "    coordinates_tuples = eval(labels_df.iloc[i]['locations'])\n",
    "    image_path = \"dataset/20160613_F54_training_256x256/\" + image_name\n",
    "    image = cv2.imread(image_path)\n",
    "    \n",
    "    # Check if image was loaded successfully\n",
    "    if image is None:\n",
    "        print(f\"Error: Failed to load image at path {image_path}\")\n",
    "        continue\n",
    "    \n",
    "    for coord in coordinates_tuples:\n",
    "        x = coord[0]\n",
    "        y = coord[1]\n",
    "        radius = 5  # Defina o tamanho do círculo a ser desenhado\n",
    "        color = (0, 0, 255) # Defina a cor do círculo (vermelho neste caso)\n",
    "        thickness = -1 # Defina a espessura do círculo (-1 preenche o círculo)\n",
    "        image_with_point = cv2.circle(image, (y, x), radius, color, thickness)\n",
    "    cv2.imshow('Imagem com ponto marcado', image_with_point)\n",
    "    cv2.waitKey(0)\n",
    "cv2.destroyAllWindows()"
   ]
  },
  {
   "cell_type": "code",
   "execution_count": null,
   "metadata": {},
   "outputs": [],
   "source": []
  }
 ],
 "metadata": {
  "kernelspec": {
   "display_name": "tg",
   "language": "python",
   "name": "python3"
  },
  "language_info": {
   "codemirror_mode": {
    "name": "ipython",
    "version": 3
   },
   "file_extension": ".py",
   "mimetype": "text/x-python",
   "name": "python",
   "nbconvert_exporter": "python",
   "pygments_lexer": "ipython3",
   "version": "3.9.16"
  },
  "orig_nbformat": 4
 },
 "nbformat": 4,
 "nbformat_minor": 2
}
